{
 "cells": [
  {
   "cell_type": "code",
   "execution_count": 1,
   "metadata": {
    "collapsed": true
   },
   "outputs": [],
   "source": [
    "import pandas as pd\n",
    "from IPython.core.interactiveshell import InteractiveShell\n",
    "InteractiveShell.ast_node_interactivity = \"all\""
   ]
  },
  {
   "cell_type": "code",
   "execution_count": 2,
   "metadata": {},
   "outputs": [
    {
     "data": {
      "text/html": [
       "<div>\n",
       "<style>\n",
       "    .dataframe thead tr:only-child th {\n",
       "        text-align: right;\n",
       "    }\n",
       "\n",
       "    .dataframe thead th {\n",
       "        text-align: left;\n",
       "    }\n",
       "\n",
       "    .dataframe tbody tr th {\n",
       "        vertical-align: top;\n",
       "    }\n",
       "</style>\n",
       "<table border=\"1\" class=\"dataframe\">\n",
       "  <thead>\n",
       "    <tr style=\"text-align: right;\">\n",
       "      <th></th>\n",
       "      <th>id</th>\n",
       "      <th>CountryName</th>\n",
       "      <th>GiniCoefficient</th>\n",
       "      <th>GDP_PPP</th>\n",
       "      <th>LifeExpectancy</th>\n",
       "      <th>HomicidePer100k</th>\n",
       "      <th>geometry</th>\n",
       "      <th>coordinates</th>\n",
       "    </tr>\n",
       "  </thead>\n",
       "  <tbody>\n",
       "    <tr>\n",
       "      <th>0</th>\n",
       "      <td>AFG</td>\n",
       "      <td>Afghanistan</td>\n",
       "      <td>0.0</td>\n",
       "      <td>1944.12</td>\n",
       "      <td>63.30</td>\n",
       "      <td>6.6</td>\n",
       "      <td>Polygon</td>\n",
       "      <td>[[[61.210817,35.650072],[62.230651,35.270664],...</td>\n",
       "    </tr>\n",
       "    <tr>\n",
       "      <th>1</th>\n",
       "      <td>ALB</td>\n",
       "      <td>Albania</td>\n",
       "      <td>29.0</td>\n",
       "      <td>11540.03</td>\n",
       "      <td>78.20</td>\n",
       "      <td>2.3</td>\n",
       "      <td>Polygon</td>\n",
       "      <td>[[[20.590247,41.855404],[20.463175,41.515089],...</td>\n",
       "    </tr>\n",
       "    <tr>\n",
       "      <th>2</th>\n",
       "      <td>DZA</td>\n",
       "      <td>Algeria</td>\n",
       "      <td>27.6</td>\n",
       "      <td>15013.30</td>\n",
       "      <td>75.86</td>\n",
       "      <td>1.4</td>\n",
       "      <td>Polygon</td>\n",
       "      <td>[[[11.999506,23.471668],[8.572893,21.565661],[...</td>\n",
       "    </tr>\n",
       "    <tr>\n",
       "      <th>3</th>\n",
       "      <td>AGO</td>\n",
       "      <td>Angola</td>\n",
       "      <td>42.7</td>\n",
       "      <td>6454.14</td>\n",
       "      <td>61.19</td>\n",
       "      <td>9.6</td>\n",
       "      <td>MultiPolygon</td>\n",
       "      <td>[[[[16.326528,-5.87747],[16.57318,-6.622645],[...</td>\n",
       "    </tr>\n",
       "    <tr>\n",
       "      <th>4</th>\n",
       "      <td>ATA</td>\n",
       "      <td>Antarctica</td>\n",
       "      <td>0.0</td>\n",
       "      <td>0.00</td>\n",
       "      <td>0.00</td>\n",
       "      <td>0.0</td>\n",
       "      <td>MultiPolygon</td>\n",
       "      <td>[[[[-59.572095,-80.040179],[-59.865849,-80.549...</td>\n",
       "    </tr>\n",
       "  </tbody>\n",
       "</table>\n",
       "</div>"
      ],
      "text/plain": [
       "    id  CountryName  GiniCoefficient   GDP_PPP  LifeExpectancy  \\\n",
       "0  AFG  Afghanistan              0.0   1944.12           63.30   \n",
       "1  ALB      Albania             29.0  11540.03           78.20   \n",
       "2  DZA      Algeria             27.6  15013.30           75.86   \n",
       "3  AGO       Angola             42.7   6454.14           61.19   \n",
       "4  ATA   Antarctica              0.0      0.00            0.00   \n",
       "\n",
       "   HomicidePer100k      geometry  \\\n",
       "0              6.6       Polygon   \n",
       "1              2.3       Polygon   \n",
       "2              1.4       Polygon   \n",
       "3              9.6  MultiPolygon   \n",
       "4              0.0  MultiPolygon   \n",
       "\n",
       "                                         coordinates  \n",
       "0  [[[61.210817,35.650072],[62.230651,35.270664],...  \n",
       "1  [[[20.590247,41.855404],[20.463175,41.515089],...  \n",
       "2  [[[11.999506,23.471668],[8.572893,21.565661],[...  \n",
       "3  [[[[16.326528,-5.87747],[16.57318,-6.622645],[...  \n",
       "4  [[[[-59.572095,-80.040179],[-59.865849,-80.549...  "
      ]
     },
     "execution_count": 2,
     "metadata": {},
     "output_type": "execute_result"
    },
    {
     "name": "stdout",
     "output_type": "stream",
     "text": [
      "<class 'pandas.core.frame.DataFrame'>\n",
      "RangeIndex: 177 entries, 0 to 176\n",
      "Data columns (total 8 columns):\n",
      "id                 177 non-null object\n",
      "CountryName        177 non-null object\n",
      "GiniCoefficient    177 non-null float64\n",
      "GDP_PPP            177 non-null float64\n",
      "LifeExpectancy     177 non-null float64\n",
      "HomicidePer100k    177 non-null float64\n",
      "geometry           177 non-null object\n",
      "coordinates        177 non-null object\n",
      "dtypes: float64(4), object(4)\n",
      "memory usage: 11.1+ KB\n"
     ]
    }
   ],
   "source": [
    "df = pd.read_csv('bordersGini_convert.csv')\n",
    "df.head()\n",
    "df.info()"
   ]
  },
  {
   "cell_type": "code",
   "execution_count": 3,
   "metadata": {},
   "outputs": [],
   "source": [
    "# filter coordinates column\n",
    "df2 = df['coordinates'].apply(pd.to_numeric, errors='ignore')"
   ]
  },
  {
   "cell_type": "code",
   "execution_count": 4,
   "metadata": {
    "scrolled": false
   },
   "outputs": [
    {
     "data": {
      "text/plain": [
       "'[[[61.210817,35.650072],[62.230651,35.270664],[62.984662,35.404041],[63.193538,35.857166],[63.982896,36.007957],[64.546479,36.312073],[64.746105,37.111818],[65.588948,37.305217],[65.745631,37.661164],[66.217385,37.39379],[66.518607,37.362784],[67.075782,37.356144],[67.83,37.144994],[68.135562,37.023115],[68.859446,37.344336],[69.196273,37.151144],[69.518785,37.608997],[70.116578,37.588223],[70.270574,37.735165],[70.376304,38.138396],[70.806821,38.486282],[71.348131,38.258905],[71.239404,37.953265],[71.541918,37.905774],[71.448693,37.065645],[71.844638,36.738171],[72.193041,36.948288],[72.63689,37.047558],[73.260056,37.495257],[73.948696,37.421566],[74.980002,37.41999],[75.158028,37.133031],[74.575893,37.020841],[74.067552,36.836176],[72.920025,36.720007],[71.846292,36.509942],[71.262348,36.074388],[71.498768,35.650563],[71.613076,35.153203],[71.115019,34.733126],[71.156773,34.348911],[70.881803,33.988856],[69.930543,34.02012],[70.323594,33.358533],[69.687147,33.105499],[69.262522,32.501944],[69.317764,31.901412],[68.926677,31.620189],[68.556932,31.71331],[67.792689,31.58293],[67.683394,31.303154],[66.938891,31.304911],[66.381458,30.738899],[66.346473,29.887943],[65.046862,29.472181],[64.350419,29.560031],[64.148002,29.340819],[63.550261,29.468331],[62.549857,29.318572],[60.874248,29.829239],[61.781222,30.73585],[61.699314,31.379506],[60.941945,31.548075],[60.863655,32.18292],[60.536078,32.981269],[60.9637,33.528832],[60.52843,33.676446],[60.803193,34.404102],[61.210817,35.650072]]]}},'"
      ]
     },
     "execution_count": 4,
     "metadata": {},
     "output_type": "execute_result"
    }
   ],
   "source": [
    "# take the first row\n",
    "df2[0]\n",
    "empty = []\n",
    "empty.append(df2[0])"
   ]
  },
  {
   "cell_type": "code",
   "execution_count": 5,
   "metadata": {
    "collapsed": true
   },
   "outputs": [],
   "source": [
    "import numpy as np"
   ]
  },
  {
   "cell_type": "code",
   "execution_count": 6,
   "metadata": {
    "scrolled": false
   },
   "outputs": [
    {
     "data": {
      "text/plain": [
       "['[[[61.210817,35.650072],[62.230651,35.270664],[62.984662,35.404041],[63.193538,35.857166],[63.982896,36.007957],[64.546479,36.312073],[64.746105,37.111818],[65.588948,37.305217],[65.745631,37.661164],[66.217385,37.39379],[66.518607,37.362784],[67.075782,37.356144],[67.83,37.144994],[68.135562,37.023115],[68.859446,37.344336],[69.196273,37.151144],[69.518785,37.608997],[70.116578,37.588223],[70.270574,37.735165],[70.376304,38.138396],[70.806821,38.486282],[71.348131,38.258905],[71.239404,37.953265],[71.541918,37.905774],[71.448693,37.065645],[71.844638,36.738171],[72.193041,36.948288],[72.63689,37.047558],[73.260056,37.495257],[73.948696,37.421566],[74.980002,37.41999],[75.158028,37.133031],[74.575893,37.020841],[74.067552,36.836176],[72.920025,36.720007],[71.846292,36.509942],[71.262348,36.074388],[71.498768,35.650563],[71.613076,35.153203],[71.115019,34.733126],[71.156773,34.348911],[70.881803,33.988856],[69.930543,34.02012],[70.323594,33.358533],[69.687147,33.105499],[69.262522,32.501944],[69.317764,31.901412],[68.926677,31.620189],[68.556932,31.71331],[67.792689,31.58293],[67.683394,31.303154],[66.938891,31.304911],[66.381458,30.738899],[66.346473,29.887943],[65.046862,29.472181],[64.350419,29.560031],[64.148002,29.340819],[63.550261,29.468331],[62.549857,29.318572],[60.874248,29.829239],[61.781222,30.73585],[61.699314,31.379506],[60.941945,31.548075],[60.863655,32.18292],[60.536078,32.981269],[60.9637,33.528832],[60.52843,33.676446],[60.803193,34.404102],[61.210817,35.650072]]]}},']"
      ]
     },
     "execution_count": 6,
     "metadata": {},
     "output_type": "execute_result"
    }
   ],
   "source": [
    "# list of first row\n",
    "# need to figure out how to make an array \n",
    "empty"
   ]
  },
  {
   "cell_type": "code",
   "execution_count": 7,
   "metadata": {
    "collapsed": true
   },
   "outputs": [],
   "source": [
    "import csv"
   ]
  },
  {
   "cell_type": "code",
   "execution_count": 8,
   "metadata": {
    "collapsed": true
   },
   "outputs": [],
   "source": [
    "rawData = csv.reader(open('bordersGini_convert.csv', 'rt'), \n",
    "                     dialect = 'excel')"
   ]
  },
  {
   "cell_type": "code",
   "execution_count": 9,
   "metadata": {
    "collapsed": true
   },
   "outputs": [],
   "source": [
    "# the template. where data from the csv will be formatted to geojson\n",
    "template = \\\n",
    "    ''' \\\n",
    "    { \"type\" : \"Feature\",\n",
    "        \"id\" : \"%s\" ,\n",
    "        \"properties\" : {\n",
    "                \"CountryName\" : \"%s\",\n",
    "                \"GiniCoefficient\" : %s,\n",
    "                \"GDP_PPP\" : %s,\n",
    "                \"LifeExpectancy\" : %s,\n",
    "                \"HomicidePer100k\" : %s    \n",
    "                },\n",
    "        \"geometry\" : {\n",
    "            \"type\" : \"%s\",\n",
    "        \n",
    "            \"coordinates\" : [%s]}\n",
    "        },\n",
    "    '''"
   ]
  },
  {
   "cell_type": "code",
   "execution_count": 10,
   "metadata": {
    "collapsed": true
   },
   "outputs": [],
   "source": [
    "# the head of the geojson file\n",
    "output = \\\n",
    "    ''' \\\n",
    "{ \"type\" : \"FeatureCollection\",\n",
    "    \"features\" : [\n",
    "    '''"
   ]
  },
  {
   "cell_type": "code",
   "execution_count": 11,
   "metadata": {
    "collapsed": true
   },
   "outputs": [],
   "source": [
    "# loop through the csv by row skipping the first\n",
    "iter = 0\n",
    "for row in rawData:\n",
    "    # iter += 1\n",
    "    # if iter >= 2:\n",
    "    id = row[0]\n",
    "    CountryName = row[1]\n",
    "    GiniCoefficient = row[2]\n",
    "    GDP_PPP = row[3]\n",
    "    LifeExpectancy = row[4]\n",
    "    HomicidePer100k = row[5]\n",
    "    geometry = row[6]\n",
    "    coordinates = row[7]\n",
    "    \n",
    "    # output += template % (row[0], row[2], row[1], row[3], row[4])\n",
    "    output += template % (id, CountryName, GiniCoefficient, GDP_PPP, LifeExpectancy, HomicidePer100k, \n",
    "                          geometry, coordinates)\n",
    "\n",
    "# the tail of the geojson file\n",
    "output += \\\n",
    "    ''' \\\n",
    "    ]\n",
    "}\n",
    "    '''"
   ]
  },
  {
   "cell_type": "markdown",
   "metadata": {},
   "source": [
    "### code below saves the geojson file"
   ]
  },
  {
   "cell_type": "code",
   "execution_count": 12,
   "metadata": {},
   "outputs": [
    {
     "data": {
      "text/plain": [
       "310243"
      ]
     },
     "execution_count": 12,
     "metadata": {},
     "output_type": "execute_result"
    }
   ],
   "source": [
    "# opens an geoJSON file to write the output to\n",
    "outFileHandle = open(\"border.geojson\", \"w\")\n",
    "outFileHandle.write(output)\n",
    "outFileHandle.close()"
   ]
  },
  {
   "cell_type": "code",
   "execution_count": null,
   "metadata": {
    "collapsed": true
   },
   "outputs": [],
   "source": []
  }
 ],
 "metadata": {
  "kernelspec": {
   "display_name": "Python 3",
   "language": "python",
   "name": "python3"
  },
  "language_info": {
   "codemirror_mode": {
    "name": "ipython",
    "version": 3
   },
   "file_extension": ".py",
   "mimetype": "text/x-python",
   "name": "python",
   "nbconvert_exporter": "python",
   "pygments_lexer": "ipython3",
   "version": "3.6.4"
  }
 },
 "nbformat": 4,
 "nbformat_minor": 2
}
