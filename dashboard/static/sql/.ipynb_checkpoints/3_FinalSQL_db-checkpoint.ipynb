{
 "cells": [
  {
   "cell_type": "code",
   "execution_count": null,
   "metadata": {
    "collapsed": true
   },
   "outputs": [],
   "source": [
    "# deletes engine - run when you have to restart\n",
    "!rm world_dev.sqlite"
   ]
  },
  {
   "cell_type": "code",
   "execution_count": null,
   "metadata": {
    "collapsed": true
   },
   "outputs": [],
   "source": [
    "# sqlalchemy dependencies\n",
    "import sqlalchemy\n",
    "from sqlalchemy.ext.automap import automap_base\n",
    "from sqlalchemy.orm import Session\n",
    "from sqlalchemy import create_engine, inspect\n",
    "from sqlalchemy import func\n",
    "\n",
    "from sqlalchemy.ext.declarative import declarative_base\n",
    "from sqlalchemy import Column, Integer, String, Float, Text, Numeric\n",
    "\n",
    "import os"
   ]
  },
  {
   "cell_type": "code",
   "execution_count": null,
   "metadata": {
    "collapsed": true
   },
   "outputs": [],
   "source": [
    "# pandas dependencies\n",
    "import pandas as pd\n",
    "import pandas_profiling\n",
    "\n",
    "# display multiple print results on one line\n",
    "from IPython.core.interactiveshell import InteractiveShell\n",
    "InteractiveShell.ast_node_interactivity = \"all\""
   ]
  },
  {
   "cell_type": "code",
   "execution_count": null,
   "metadata": {
    "collapsed": true
   },
   "outputs": [],
   "source": [
    "# PyMySQL \n",
    "import pymysql\n",
    "pymysql.install_as_MySQLdb()\n",
    "\n",
    "# flask \n",
    "from flask import Flask, jsonify"
   ]
  },
  {
   "cell_type": "code",
   "execution_count": null,
   "metadata": {},
   "outputs": [],
   "source": [
    "# read csv\n",
    "df = pd.read_csv('data/worldData.csv')\n",
    "df.head()\n",
    "df.shape"
   ]
  },
  {
   "cell_type": "code",
   "execution_count": null,
   "metadata": {},
   "outputs": [],
   "source": [
    "# update Mean column name in df\n",
    "updated_df = df.rename(columns={\"GIniYear\": \"GiniYear\", \"Gini\":\"GiniCoefficient\",\n",
    "                                \"Mean\": \"GDPMean\",})\n",
    "updated_df2 = updated_df.set_index('id')\n",
    "updated_df2.head()\n",
    "updated_df2.shape\n"
   ]
  },
  {
   "cell_type": "code",
   "execution_count": null,
   "metadata": {
    "collapsed": true
   },
   "outputs": [],
   "source": [
    "# create sqlite database\n",
    "engine = create_engine(\"sqlite:///world_dev.sqlite\")\n",
    "conn = engine.connect()"
   ]
  },
  {
   "cell_type": "code",
   "execution_count": null,
   "metadata": {
    "collapsed": true
   },
   "outputs": [],
   "source": [
    "# declarative_base\n",
    "# Base = declarative_base()\n",
    "Base = automap_base()"
   ]
  },
  {
   "cell_type": "code",
   "execution_count": null,
   "metadata": {},
   "outputs": [],
   "source": [
    "# create world_dev metadata class\n",
    "class world_dev(Base):\n",
    "    __tablename__ = 'worldDev'\n",
    "    \n",
    "    id = Column(Integer, primary_key=True)\n",
    "    IsoCode = Column(Text(64))\n",
    "    CountryName = Column(Text(64))\n",
    "    Region = Column(Text(64))\n",
    "    IncomeGroup = Column(Text(64))\n",
    "    GiniYear = Column(Text(64))\n",
    "    GiniCoefficient = Column(Float(64))\n",
    "    HomicideYear = Column(Float(64))\n",
    "    Homicideper100k = Column(Float(64))\n",
    "    GDPPP = Column(Float(64))\n",
    "    HDI = Column(Float(64))\n",
    "    GDPMean = Column(Float(64))  \n",
    "    services2015(Float(64)) \n",
    "    industry2015(Float(64)) \n",
    "    agriculture2015(Float(64)) \n",
    "    \n",
    "    def __repr__(self):\n",
    "        return f\"id={self.ID}\""
   ]
  },
  {
   "cell_type": "code",
   "execution_count": null,
   "metadata": {
    "collapsed": true
   },
   "outputs": [],
   "source": [
    "# ^^ need to fix. getting an error"
   ]
  }
 ],
 "metadata": {
  "kernelspec": {
   "display_name": "Python 3",
   "language": "python",
   "name": "python3"
  },
  "language_info": {
   "codemirror_mode": {
    "name": "ipython",
    "version": 3
   },
   "file_extension": ".py",
   "mimetype": "text/x-python",
   "name": "python",
   "nbconvert_exporter": "python",
   "pygments_lexer": "ipython3",
   "version": "3.6.4"
  }
 },
 "nbformat": 4,
 "nbformat_minor": 2
}
