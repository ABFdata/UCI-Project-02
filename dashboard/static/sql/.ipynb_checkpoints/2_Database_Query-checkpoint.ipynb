{
 "cells": [
  {
   "cell_type": "code",
   "execution_count": 1,
   "metadata": {},
   "outputs": [
    {
     "name": "stdout",
     "output_type": "stream",
     "text": [
      "height has been deprecated.\n",
      "\n"
     ]
    }
   ],
   "source": [
    "# import dependencies \n",
    "import pandas as pd\n",
    "import numpy as np\n",
    "import matplotlib.pyplot as plt\n",
    "%matplotlib inline\n",
    "import seaborn as sns\n",
    "import warnings\n",
    "warnings.filterwarnings('ignore')\n",
    "pd.set_option('display.height', 1000)\n",
    "pd.set_option('display.max_rows', 100)\n",
    "pd.set_option('display.max_columns', 100)\n",
    "pd.set_option('display.width', 1000)\n",
    "\n",
    "# display multiple print results on one line\n",
    "from IPython.core.interactiveshell import InteractiveShell\n",
    "InteractiveShell.ast_node_interactivity = \"all\"\n",
    "\n",
    "# expands .describe with more info about the data set\n",
    "import pandas_profiling\n",
    "\n",
    "# sqlalchemy dependencies\n",
    "import sqlalchemy\n",
    "from sqlalchemy.ext.automap import automap_base\n",
    "from sqlalchemy.orm import Session\n",
    "from sqlalchemy import create_engine\n",
    "from sqlalchemy import func\n",
    "\n",
    "from sqlalchemy.ext.declarative import declarative_base\n",
    "from sqlalchemy import Column, Integer, String, Float, Text\n",
    "\n",
    "# PyMySQL \n",
    "import pymysql\n",
    "pymysql.install_as_MySQLdb()\n",
    "\n",
    "# flask \n",
    "from flask import Flask, jsonify"
   ]
  },
  {
   "cell_type": "code",
   "execution_count": 2,
   "metadata": {
    "collapsed": true
   },
   "outputs": [],
   "source": [
    "# Use SQLAlchemy create_engine to connect to my sqlite database\n",
    "\n",
    "engine = create_engine(\"sqlite:///world_dev.sqlite\")\n",
    "conn = engine.connect()"
   ]
  },
  {
   "cell_type": "code",
   "execution_count": 3,
   "metadata": {
    "collapsed": true
   },
   "outputs": [],
   "source": [
    "# Use SQLAlchemy automap_base() to refelct tables into classes and save a reference to those classes\n",
    "# called Station and Measurement\n",
    "Base = automap_base()"
   ]
  },
  {
   "cell_type": "code",
   "execution_count": 4,
   "metadata": {
    "collapsed": true
   },
   "outputs": [],
   "source": [
    "# use the base class to reflect the database tables\n",
    "Base.prepare(engine, reflect=True)"
   ]
  },
  {
   "cell_type": "code",
   "execution_count": 5,
   "metadata": {},
   "outputs": [
    {
     "data": {
      "text/plain": [
       "['worldDev']"
      ]
     },
     "execution_count": 5,
     "metadata": {},
     "output_type": "execute_result"
    }
   ],
   "source": [
    "# print all of the classes mapped to the Base\n",
    "Base.classes.keys()"
   ]
  },
  {
   "cell_type": "code",
   "execution_count": 6,
   "metadata": {
    "collapsed": true
   },
   "outputs": [],
   "source": [
    "# assign worldDev class to variables\n",
    "WorldDev = Base.classes.worldDev"
   ]
  },
  {
   "cell_type": "code",
   "execution_count": 7,
   "metadata": {
    "collapsed": true
   },
   "outputs": [],
   "source": [
    "# create a session\n",
    "session = Session(engine)"
   ]
  },
  {
   "cell_type": "code",
   "execution_count": 8,
   "metadata": {
    "scrolled": false
   },
   "outputs": [
    {
     "name": "stdout",
     "output_type": "stream",
     "text": [
      "('Afghanistan', 5.60708087)\n",
      "('Angola', 3.777339715)\n",
      "('Albania', 2.293125652)\n",
      "('United Arab Emirates', 4.148458248)\n",
      "('Argentina', 2.199652163)\n",
      "('Armenia', 3.4857142860000003)\n",
      "('Australia', 2.625663949)\n",
      "('Austria', 1.242183797)\n",
      "('Azerbaijan', 1.845277183)\n",
      "('Burundi', 2.394326994)\n",
      "('Belgium', 1.314271041)\n",
      "('Benin', 4.21660673)\n",
      "('Burkina Faso', 5.483243847000001)\n",
      "('Bangladesh', 6.328347592)\n",
      "('Bulgaria', 1.859920436)\n",
      "('Bosnia and Herzegovina', 1.5185921219999998)\n",
      "('Belarus', 1.6196093)\n",
      "('Belize', 2.335234809)\n",
      "('Brazil', 1.366947796)\n",
      "('Bhutan', 6.738511955)\n",
      "('Botswana', 5.3074883360000005)\n",
      "('Central African Republic', -2.26694437)\n",
      "('Canada', 2.202847081)\n",
      "('Switzerland', 1.80072263)\n",
      "('Chile', 3.8671401569999997)\n",
      "('China', 8.096243056)\n",
      "('Cameroon', 4.7836131239999995)\n",
      "('Colombia', 4.126428052)\n",
      "('Costa Rica', 4.147681595)\n",
      "('Cuba', 2.348723744)\n",
      "('Cyprus', -0.535098094)\n",
      "('Czech Republic', 1.912202655)\n",
      "('Germany', 2.048290286)\n",
      "('Djibouti', 4.3282030680000005)\n",
      "('Denmark', 1.365378023)\n",
      "('Dominican Republic', 5.750022972999999)\n",
      "('Algeria', 3.3601438619999997)\n",
      "('Ecuador', 3.4704678419999997)\n",
      "('Eritrea', 1.553427212)\n",
      "('Spain', 0.35265096)\n",
      "('Estonia', 3.2469198439999998)\n",
      "('Ethiopia', 10.16723413)\n",
      "('Finland', 0.666550921)\n",
      "('Fiji', 3.090467793)\n",
      "('France', 1.1437885190000001)\n",
      "('Gabon', 5.075321832)\n",
      "('United Kingdom', 1.9822001040000001)\n",
      "('Georgia', 4.794441635)\n",
      "('Ghana', 7.147027039)\n",
      "('Guinea', 4.788740281)\n",
      "('Equatorial Guinea', -2.2520521280000003)\n",
      "('Greece', -3.5641271619999997)\n",
      "('Guatemala', 3.5828879610000004)\n",
      "('Guyana', 4.276835827)\n",
      "('Honduras', 3.5421973889999996)\n",
      "('Croatia', -0.070906441)\n",
      "('Haiti', 1.800909864)\n",
      "('Hungary', 1.8006853880000002)\n",
      "('Indonesia', 5.554204877)\n",
      "('India', 7.337589723)\n",
      "('Ireland', 6.4985276789999995)\n",
      "('Iraq', 7.27966093)\n",
      "('Iceland', 2.468237904)\n",
      "('Israel', 3.782544863)\n",
      "('Italy', -0.032902136)\n",
      "('Jamaica', 0.441271139)\n",
      "('Jordan', 2.55283915)\n",
      "('Japan', 1.451294679)\n",
      "('Kazakhstan', 4.571428571)\n",
      "('Kenya', 5.981534671)\n",
      "('Cambodia', 6.976371578999999)\n",
      "('Kuwait', 2.811100495)\n",
      "('Lebanon', 2.744844235)\n",
      "('Liberia', 4.299915823)\n",
      "('Libya', -8.150661406000001)\n",
      "('Sri Lanka', 6.162821815)\n",
      "('Lesotho', 4.1214219530000005)\n",
      "('Lithuania', 3.2290480460000004)\n",
      "('Luxembourg', 3.2031840369999998)\n",
      "('Latvia', 2.268506039)\n",
      "('Morocco', 3.578320042)\n",
      "('Madagascar', 2.5160963240000003)\n",
      "('Mexico', 3.1055293760000002)\n",
      "('Mali', 4.1324355530000005)\n",
      "('Malta', 4.701033158)\n",
      "('Myanmar', 7.405762064)\n",
      "('Montenegro', 2.1302078890000002)\n",
      "('Mongolia', 8.447562737)\n",
      "('Mozambique', 6.575997386)\n",
      "('Mauritania', 4.334663495)\n",
      "('Malawi', 4.256851554)\n",
      "('Malaysia', 5.385232277999999)\n",
      "('Namibia', 5.032991445)\n",
      "('Niger', 6.32651737)\n",
      "('Nigeria', 4.249480378)\n",
      "('Nicaragua', 5.212945831)\n",
      "('Netherlands', 1.10132868)\n",
      "('Norway', 1.495184875)\n",
      "('Nepal', 3.839013543)\n",
      "('New Zealand', 2.611023673)\n",
      "('Oman', 3.6565114010000004)\n",
      "('Pakistan', 3.876581261)\n",
      "('Panama', 7.1631796770000005)\n",
      "('Peru', 5.162846675)\n",
      "('Philippines', 6.31080114)\n",
      "('Papua New Guinea', 6.260736807000001)\n",
      "('Poland', 3.0880044769999997)\n",
      "('Portugal', -0.11891727199999999)\n",
      "('Paraguay', 5.990977847999999)\n",
      "('Qatar', 7.4025800770000005)\n",
      "('Romania', 2.295699986)\n",
      "('Rwanda', 7.291831012)\n",
      "('Saudi Arabia', 4.663924523)\n",
      "('Sudan', 2.671904786)\n",
      "('South Sudan', -5.010774435)\n",
      "('Senegal', 4.440134625)\n",
      "('Solomon Islands', 5.104338625)\n",
      "('Sierra Leone', 5.205235804)\n",
      "('El Salvador', 1.914354483)\n",
      "('Suriname', 1.3082229109999999)\n",
      "('Slovenia', 0.924562819)\n",
      "('Sweden', 2.852779519)\n",
      "('Swaziland', 2.981539755)\n",
      "('Chad', 4.273647523)\n",
      "('Togo', 4.833870005)\n",
      "('Thailand', 3.63181801)\n",
      "('Tajikistan', 6.914178799)\n",
      "('Turkmenistan', 9.742857123)\n",
      "('Trinidad and Tobago', 0.507726519)\n",
      "('Tunisia', 1.944026915)\n",
      "('Turkey', 6.759789458999999)\n",
      "('Uganda', 5.3434816210000005)\n",
      "('Ukraine', -0.591501046)\n",
      "('Uruguay', 3.743460575)\n",
      "('Uzbekistan', 8.084646053)\n",
      "('Vanuatu', 1.729527095)\n",
      "('South Africa', 2.043474671)\n",
      "('Zambia', 5.677896173)\n",
      "('Zimbabwe', 7.538362011)\n"
     ]
    }
   ],
   "source": [
    "# run query to test if data is stored in table\n",
    "\n",
    "for row in session.query(WorldDev.CountryName, WorldDev.GDPMean).all():\n",
    "    print (row)"
   ]
  },
  {
   "cell_type": "code",
   "execution_count": null,
   "metadata": {
    "collapsed": true
   },
   "outputs": [],
   "source": []
  }
 ],
 "metadata": {
  "kernelspec": {
   "display_name": "Python 3",
   "language": "python",
   "name": "python3"
  },
  "language_info": {
   "codemirror_mode": {
    "name": "ipython",
    "version": 3
   },
   "file_extension": ".py",
   "mimetype": "text/x-python",
   "name": "python",
   "nbconvert_exporter": "python",
   "pygments_lexer": "ipython3",
   "version": "3.6.4"
  }
 },
 "nbformat": 4,
 "nbformat_minor": 2
}
