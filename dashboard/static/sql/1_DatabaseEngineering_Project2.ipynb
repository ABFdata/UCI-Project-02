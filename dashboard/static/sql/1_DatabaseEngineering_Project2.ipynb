{
 "cells": [
  {
   "cell_type": "code",
   "execution_count": 1,
   "metadata": {},
   "outputs": [
    {
     "name": "stdout",
     "output_type": "stream",
     "text": [
      "rm: world_dev.sqlite: No such file or directory\r\n"
     ]
    }
   ],
   "source": [
    "# deletes engine - run when you have to restart\n",
    "!rm world_dev.sqlite"
   ]
  },
  {
   "cell_type": "code",
   "execution_count": 2,
   "metadata": {
    "collapsed": true
   },
   "outputs": [],
   "source": [
    "# sqlalchemy dependencies\n",
    "import sqlalchemy\n",
    "from sqlalchemy.ext.automap import automap_base\n",
    "from sqlalchemy.orm import Session\n",
    "from sqlalchemy import create_engine, inspect\n",
    "from sqlalchemy import func\n",
    "\n",
    "from sqlalchemy.ext.declarative import declarative_base\n",
    "from sqlalchemy import Column, Integer, String, Float, Text, Numeric\n",
    "\n",
    "import os"
   ]
  },
  {
   "cell_type": "code",
   "execution_count": 3,
   "metadata": {
    "collapsed": true
   },
   "outputs": [],
   "source": [
    "# pandas dependencies\n",
    "import pandas as pd\n",
    "import pandas_profiling\n",
    "\n",
    "# display multiple print results on one line\n",
    "from IPython.core.interactiveshell import InteractiveShell\n",
    "InteractiveShell.ast_node_interactivity = \"all\""
   ]
  },
  {
   "cell_type": "code",
   "execution_count": 4,
   "metadata": {
    "collapsed": true
   },
   "outputs": [],
   "source": [
    "# PyMySQL \n",
    "import pymysql\n",
    "pymysql.install_as_MySQLdb()\n",
    "\n",
    "# flask \n",
    "from flask import Flask, jsonify"
   ]
  },
  {
   "cell_type": "code",
   "execution_count": 5,
   "metadata": {
    "scrolled": false
   },
   "outputs": [
    {
     "data": {
      "text/html": [
       "<div>\n",
       "<style>\n",
       "    .dataframe thead tr:only-child th {\n",
       "        text-align: right;\n",
       "    }\n",
       "\n",
       "    .dataframe thead th {\n",
       "        text-align: left;\n",
       "    }\n",
       "\n",
       "    .dataframe tbody tr th {\n",
       "        vertical-align: top;\n",
       "    }\n",
       "</style>\n",
       "<table border=\"1\" class=\"dataframe\">\n",
       "  <thead>\n",
       "    <tr style=\"text-align: right;\">\n",
       "      <th></th>\n",
       "      <th>CountryName</th>\n",
       "      <th>Region</th>\n",
       "      <th>IncomeGroup</th>\n",
       "      <th>GiniCoefficient</th>\n",
       "      <th>GDPPPP</th>\n",
       "      <th>Homicideper100k</th>\n",
       "      <th>HDI</th>\n",
       "      <th>GDPMean</th>\n",
       "    </tr>\n",
       "    <tr>\n",
       "      <th>id</th>\n",
       "      <th></th>\n",
       "      <th></th>\n",
       "      <th></th>\n",
       "      <th></th>\n",
       "      <th></th>\n",
       "      <th></th>\n",
       "      <th></th>\n",
       "      <th></th>\n",
       "    </tr>\n",
       "  </thead>\n",
       "  <tbody>\n",
       "    <tr>\n",
       "      <th>0</th>\n",
       "      <td>Afghanistan</td>\n",
       "      <td>South Asia</td>\n",
       "      <td>Low income</td>\n",
       "      <td>0.0</td>\n",
       "      <td>1926.357336</td>\n",
       "      <td>0.0</td>\n",
       "      <td>0.479</td>\n",
       "      <td>5.607081</td>\n",
       "    </tr>\n",
       "    <tr>\n",
       "      <th>1</th>\n",
       "      <td>Angola</td>\n",
       "      <td>Sub-Saharan Africa</td>\n",
       "      <td>Lower middle income</td>\n",
       "      <td>0.0</td>\n",
       "      <td>6635.242750</td>\n",
       "      <td>9.6</td>\n",
       "      <td>0.533</td>\n",
       "      <td>3.777340</td>\n",
       "    </tr>\n",
       "    <tr>\n",
       "      <th>2</th>\n",
       "      <td>Albania</td>\n",
       "      <td>Europe &amp; Central Asia</td>\n",
       "      <td>Upper middle income</td>\n",
       "      <td>0.0</td>\n",
       "      <td>11282.793580</td>\n",
       "      <td>2.3</td>\n",
       "      <td>0.764</td>\n",
       "      <td>2.293126</td>\n",
       "    </tr>\n",
       "    <tr>\n",
       "      <th>3</th>\n",
       "      <td>United Arab Emirates</td>\n",
       "      <td>Middle East &amp; North Africa</td>\n",
       "      <td>High income</td>\n",
       "      <td>0.0</td>\n",
       "      <td>70254.831570</td>\n",
       "      <td>0.7</td>\n",
       "      <td>0.840</td>\n",
       "      <td>4.148458</td>\n",
       "    </tr>\n",
       "    <tr>\n",
       "      <th>4</th>\n",
       "      <td>Argentina</td>\n",
       "      <td>Latin America &amp; Caribbean</td>\n",
       "      <td>Upper middle income</td>\n",
       "      <td>0.0</td>\n",
       "      <td>20340.292420</td>\n",
       "      <td>6.5</td>\n",
       "      <td>0.827</td>\n",
       "      <td>2.199652</td>\n",
       "    </tr>\n",
       "  </tbody>\n",
       "</table>\n",
       "</div>"
      ],
      "text/plain": [
       "             CountryName                      Region          IncomeGroup  \\\n",
       "id                                                                          \n",
       "0            Afghanistan                  South Asia           Low income   \n",
       "1                 Angola          Sub-Saharan Africa  Lower middle income   \n",
       "2                Albania       Europe & Central Asia  Upper middle income   \n",
       "3   United Arab Emirates  Middle East & North Africa          High income   \n",
       "4              Argentina   Latin America & Caribbean  Upper middle income   \n",
       "\n",
       "    GiniCoefficient        GDPPPP  Homicideper100k    HDI   GDPMean  \n",
       "id                                                                   \n",
       "0               0.0   1926.357336              0.0  0.479  5.607081  \n",
       "1               0.0   6635.242750              9.6  0.533  3.777340  \n",
       "2               0.0  11282.793580              2.3  0.764  2.293126  \n",
       "3               0.0  70254.831570              0.7  0.840  4.148458  \n",
       "4               0.0  20340.292420              6.5  0.827  2.199652  "
      ]
     },
     "execution_count": 5,
     "metadata": {},
     "output_type": "execute_result"
    },
    {
     "data": {
      "text/plain": [
       "(139, 9)"
      ]
     },
     "execution_count": 5,
     "metadata": {},
     "output_type": "execute_result"
    }
   ],
   "source": [
    "# read csv\n",
    "df = pd.read_csv('data.csv')\n",
    "updated_df = df.rename(columns={\"Unnamed: 0\": \"id\",\n",
    "                  \"Country Name\": \"CountryName\",\n",
    "                  \"Gini Coefficient\": \"GiniCoefficient\",\n",
    "                  \"GDP PPP\": \"GDPPPP\",\n",
    "                  \"Homicide per 100k\": \"Homicideper100k\",\n",
    "                  \"Mean\": \"GDPMean\"})\n",
    "updated_df.set_index(\"id\").head()\n",
    "updated_df.shape"
   ]
  },
  {
   "cell_type": "code",
   "execution_count": 6,
   "metadata": {
    "collapsed": true,
    "scrolled": true
   },
   "outputs": [],
   "source": [
    "# pandas profile report\n",
    "# pandas_profiling.ProfileReport(updated_df)"
   ]
  },
  {
   "cell_type": "code",
   "execution_count": 7,
   "metadata": {
    "collapsed": true
   },
   "outputs": [],
   "source": [
    "# create sqlite database\n",
    "engine = create_engine(\"sqlite:///world_dev.sqlite\")\n",
    "conn = engine.connect()"
   ]
  },
  {
   "cell_type": "code",
   "execution_count": 8,
   "metadata": {
    "collapsed": true
   },
   "outputs": [],
   "source": [
    "# declarative_base\n",
    "# Base = declarative_base()\n",
    "Base = automap_base()"
   ]
  },
  {
   "cell_type": "code",
   "execution_count": 9,
   "metadata": {
    "collapsed": true
   },
   "outputs": [],
   "source": [
    "# create world_dev metadata class\n",
    "class world_dev(Base):\n",
    "    __tablename__ = 'worldDev'\n",
    "    \n",
    "    id = Column(Integer, primary_key=True)\n",
    "    CountryName = Column(Text(64))\n",
    "    Region = Column(Text(64))\n",
    "    IncomeGroup = Column(Text(64))\n",
    "    GiniCoefficient = Column(Float(64))\n",
    "    GDPPP = Column(Float(64))\n",
    "    Homicideper100k = Column(Float(64))\n",
    "    HDI = Column(Float(64))\n",
    "    GDPMean = Column(Float(64))   \n",
    "    \n",
    "    def __repr__(self):\n",
    "        return f\"id={self.ID}\""
   ]
  },
  {
   "cell_type": "code",
   "execution_count": 10,
   "metadata": {},
   "outputs": [
    {
     "data": {
      "text/plain": [
       "['worldDev']"
      ]
     },
     "execution_count": 10,
     "metadata": {},
     "output_type": "execute_result"
    }
   ],
   "source": [
    "# create a \"metadata\" layer that abstracts our SQL Database\n",
    "Base.metadata.create_all(engine)\n",
    "engine.table_names()"
   ]
  },
  {
   "cell_type": "code",
   "execution_count": 11,
   "metadata": {
    "collapsed": true
   },
   "outputs": [],
   "source": [
    "# create a session object to connect to DB\n",
    "session = Session(bind=engine)"
   ]
  },
  {
   "cell_type": "code",
   "execution_count": 12,
   "metadata": {
    "collapsed": true
   },
   "outputs": [],
   "source": [
    "# add updated_df csv data\n",
    "updated_df.to_sql('world_dev', conn, if_exists='append', index=False)"
   ]
  },
  {
   "cell_type": "code",
   "execution_count": 13,
   "metadata": {
    "scrolled": false
   },
   "outputs": [
    {
     "data": {
      "text/plain": [
       "(139, 9)"
      ]
     },
     "execution_count": 13,
     "metadata": {},
     "output_type": "execute_result"
    }
   ],
   "source": [
    "# read back world_dev class to see if updated_df data was appended to world_dev.sqlite\n",
    "data_world_dev = pd.read_sql(\"SELECT * FROM world_dev\", conn)\n",
    "# data_world_dev.head()\n",
    "# data_world_dev.tail()\n",
    "data_world_dev.shape"
   ]
  },
  {
   "cell_type": "code",
   "execution_count": 14,
   "metadata": {},
   "outputs": [
    {
     "data": {
      "text/html": [
       "<div>\n",
       "<style>\n",
       "    .dataframe thead tr:only-child th {\n",
       "        text-align: right;\n",
       "    }\n",
       "\n",
       "    .dataframe thead th {\n",
       "        text-align: left;\n",
       "    }\n",
       "\n",
       "    .dataframe tbody tr th {\n",
       "        vertical-align: top;\n",
       "    }\n",
       "</style>\n",
       "<table border=\"1\" class=\"dataframe\">\n",
       "  <thead>\n",
       "    <tr style=\"text-align: right;\">\n",
       "      <th></th>\n",
       "      <th>CountryName</th>\n",
       "      <th>Region</th>\n",
       "      <th>IncomeGroup</th>\n",
       "      <th>GiniCoefficient</th>\n",
       "      <th>GDPPPP</th>\n",
       "      <th>Homicideper100k</th>\n",
       "      <th>HDI</th>\n",
       "      <th>GDPMean</th>\n",
       "    </tr>\n",
       "    <tr>\n",
       "      <th>id</th>\n",
       "      <th></th>\n",
       "      <th></th>\n",
       "      <th></th>\n",
       "      <th></th>\n",
       "      <th></th>\n",
       "      <th></th>\n",
       "      <th></th>\n",
       "      <th></th>\n",
       "    </tr>\n",
       "  </thead>\n",
       "  <tbody>\n",
       "    <tr>\n",
       "      <th>0</th>\n",
       "      <td>Afghanistan</td>\n",
       "      <td>South Asia</td>\n",
       "      <td>Low income</td>\n",
       "      <td>0.0</td>\n",
       "      <td>1926.357336</td>\n",
       "      <td>0.0</td>\n",
       "      <td>0.479</td>\n",
       "      <td>5.607081</td>\n",
       "    </tr>\n",
       "    <tr>\n",
       "      <th>1</th>\n",
       "      <td>Angola</td>\n",
       "      <td>Sub-Saharan Africa</td>\n",
       "      <td>Lower middle income</td>\n",
       "      <td>0.0</td>\n",
       "      <td>6635.242750</td>\n",
       "      <td>9.6</td>\n",
       "      <td>0.533</td>\n",
       "      <td>3.777340</td>\n",
       "    </tr>\n",
       "    <tr>\n",
       "      <th>2</th>\n",
       "      <td>Albania</td>\n",
       "      <td>Europe &amp; Central Asia</td>\n",
       "      <td>Upper middle income</td>\n",
       "      <td>0.0</td>\n",
       "      <td>11282.793580</td>\n",
       "      <td>2.3</td>\n",
       "      <td>0.764</td>\n",
       "      <td>2.293126</td>\n",
       "    </tr>\n",
       "    <tr>\n",
       "      <th>3</th>\n",
       "      <td>United Arab Emirates</td>\n",
       "      <td>Middle East &amp; North Africa</td>\n",
       "      <td>High income</td>\n",
       "      <td>0.0</td>\n",
       "      <td>70254.831570</td>\n",
       "      <td>0.7</td>\n",
       "      <td>0.840</td>\n",
       "      <td>4.148458</td>\n",
       "    </tr>\n",
       "    <tr>\n",
       "      <th>4</th>\n",
       "      <td>Argentina</td>\n",
       "      <td>Latin America &amp; Caribbean</td>\n",
       "      <td>Upper middle income</td>\n",
       "      <td>0.0</td>\n",
       "      <td>20340.292420</td>\n",
       "      <td>6.5</td>\n",
       "      <td>0.827</td>\n",
       "      <td>2.199652</td>\n",
       "    </tr>\n",
       "  </tbody>\n",
       "</table>\n",
       "</div>"
      ],
      "text/plain": [
       "             CountryName                      Region          IncomeGroup  \\\n",
       "id                                                                          \n",
       "0            Afghanistan                  South Asia           Low income   \n",
       "1                 Angola          Sub-Saharan Africa  Lower middle income   \n",
       "2                Albania       Europe & Central Asia  Upper middle income   \n",
       "3   United Arab Emirates  Middle East & North Africa          High income   \n",
       "4              Argentina   Latin America & Caribbean  Upper middle income   \n",
       "\n",
       "    GiniCoefficient        GDPPPP  Homicideper100k    HDI   GDPMean  \n",
       "id                                                                   \n",
       "0               0.0   1926.357336              0.0  0.479  5.607081  \n",
       "1               0.0   6635.242750              9.6  0.533  3.777340  \n",
       "2               0.0  11282.793580              2.3  0.764  2.293126  \n",
       "3               0.0  70254.831570              0.7  0.840  4.148458  \n",
       "4               0.0  20340.292420              6.5  0.827  2.199652  "
      ]
     },
     "execution_count": 14,
     "metadata": {},
     "output_type": "execute_result"
    }
   ],
   "source": [
    "# store data_world_dev into new variable and set index to id\n",
    "final_sql_df = data_world_dev.set_index('id')\n",
    "final_sql_df.head()"
   ]
  },
  {
   "cell_type": "code",
   "execution_count": 15,
   "metadata": {
    "collapsed": true
   },
   "outputs": [],
   "source": [
    "# save to csv\n",
    "# final_sql_df.to_csv('worldDev.csv')"
   ]
  },
  {
   "cell_type": "code",
   "execution_count": 16,
   "metadata": {
    "collapsed": true
   },
   "outputs": [],
   "source": [
    "# create object for worldDev.csv\n",
    "worldDevcsv = 'worldDev.csv'"
   ]
  },
  {
   "cell_type": "code",
   "execution_count": 17,
   "metadata": {},
   "outputs": [
    {
     "name": "stdout",
     "output_type": "stream",
     "text": [
      "[{'id': 0, 'CountryName': 'Afghanistan', 'Region': 'South Asia', 'IncomeGroup': 'Low income', 'GiniCoefficient': 0.0, 'GDPPPP': 1926.357336, 'Homicideper100k': 0.0, 'HDI': 0.479, 'GDPMean': 5.60708087}]\n"
     ]
    }
   ],
   "source": [
    "# function to populate table\n",
    "def populate_table (engine, table, csvfile):\n",
    "    \"\"\"Populates a table from a Pandas DataFrame.\"\"\"\n",
    "    \n",
    "    # connect to the database\n",
    "    conn = engine.connect()\n",
    "    \n",
    "    # Load the CSV file into a pandas dataframe\n",
    "    insert_df = pd.read_csv(csvfile)\n",
    "    \n",
    "    # Orient='records' creates a list of data to write\n",
    "    # http://pandas-docs.github.io/pandas-docs-travis/io.html#orient-options\n",
    "    data = insert_df.to_dict(orient='records')\n",
    "    print(data[:1])\n",
    "    \n",
    "    # Optional: Delete all rows in the table \n",
    "    conn.execute(table.delete())\n",
    "\n",
    "    # Insert the dataframe into the database in one bulk insert\n",
    "    conn.execute(table.insert(), data)\n",
    "\n",
    "# Call the function to insert the data for each table\n",
    "# world_dev is the class\n",
    "populate_table(engine, world_dev.__table__, worldDevcsv)"
   ]
  },
  {
   "cell_type": "code",
   "execution_count": 18,
   "metadata": {},
   "outputs": [
    {
     "data": {
      "text/plain": [
       "[(0, 'Afghanistan', 'South Asia', 'Low income', 0.0, None, 0.0, 0.479, 5.60708087)]"
      ]
     },
     "execution_count": 18,
     "metadata": {},
     "output_type": "execute_result"
    }
   ],
   "source": [
    "# check to see if data was added to table\n",
    "engine.execute(\"SELECT * FROM worldDev LIMIT 1\").fetchall()"
   ]
  },
  {
   "cell_type": "markdown",
   "metadata": {},
   "source": [
    "### End Database Engineering Section\n",
    "<br>\n",
    "<hr>"
   ]
  },
  {
   "cell_type": "markdown",
   "metadata": {},
   "source": [
    "### Reflect Table Section\n",
    "<hr>"
   ]
  },
  {
   "cell_type": "code",
   "execution_count": 19,
   "metadata": {
    "collapsed": true
   },
   "outputs": [],
   "source": [
    "# Use SQLAlchemy automap_base() to refelct tables into classes and save a reference to those classes\n",
    "Base = automap_base()"
   ]
  },
  {
   "cell_type": "code",
   "execution_count": 20,
   "metadata": {
    "collapsed": true
   },
   "outputs": [],
   "source": [
    "# use the base class to reflect the database tables\n",
    "Base.prepare(engine, reflect=True)"
   ]
  },
  {
   "cell_type": "code",
   "execution_count": 21,
   "metadata": {},
   "outputs": [
    {
     "data": {
      "text/plain": [
       "['worldDev']"
      ]
     },
     "execution_count": 21,
     "metadata": {},
     "output_type": "execute_result"
    }
   ],
   "source": [
    "# print all of the classes mapped to the Base\n",
    "Base.classes.keys()"
   ]
  },
  {
   "cell_type": "code",
   "execution_count": 22,
   "metadata": {
    "collapsed": true
   },
   "outputs": [],
   "source": [
    "# assign worldDev class to variables\n",
    "WorldDev = Base.classes.worldDev"
   ]
  },
  {
   "cell_type": "code",
   "execution_count": 23,
   "metadata": {
    "collapsed": true
   },
   "outputs": [],
   "source": [
    "# create a session\n",
    "session = Session(engine)"
   ]
  },
  {
   "cell_type": "code",
   "execution_count": 24,
   "metadata": {
    "collapsed": true
   },
   "outputs": [],
   "source": [
    "# Display the row's columns and data in dict format\n",
    "results = session.query(WorldDev.CountryName, WorldDev.GiniCoefficient).all()"
   ]
  },
  {
   "cell_type": "code",
   "execution_count": 25,
   "metadata": {
    "scrolled": false
   },
   "outputs": [
    {
     "data": {
      "text/plain": [
       "[('Afghanistan', 0.0),\n",
       " ('Angola', 0.0),\n",
       " ('Albania', 0.0),\n",
       " ('United Arab Emirates', 0.0),\n",
       " ('Argentina', 0.0),\n",
       " ('Armenia', 32.4),\n",
       " ('Australia', 0.0),\n",
       " ('Austria', 0.0),\n",
       " ('Azerbaijan', 0.0),\n",
       " ('Burundi', 0.0),\n",
       " ('Belgium', 0.0),\n",
       " ('Benin', 47.8),\n",
       " ('Burkina Faso', 0.0),\n",
       " ('Bangladesh', 0.0),\n",
       " ('Bulgaria', 0.0),\n",
       " ('Bosnia and Herzegovina', 0.0),\n",
       " ('Belarus', 26.7),\n",
       " ('Belize', 0.0),\n",
       " ('Brazil', 51.3),\n",
       " ('Bhutan', 0.0),\n",
       " ('Botswana', 0.0),\n",
       " ('Central African Republic', 0.0),\n",
       " ('Canada', 0.0),\n",
       " ('Switzerland', 0.0),\n",
       " ('Chile', 47.7),\n",
       " ('China', 0.0),\n",
       " ('Cameroon', 0.0),\n",
       " ('Colombia', 51.1),\n",
       " ('Costa Rica', 48.2),\n",
       " ('Cuba', 0.0),\n",
       " ('Cyprus', 0.0),\n",
       " ('Czech Republic', 0.0),\n",
       " ('Germany', 0.0),\n",
       " ('Djibouti', 0.0),\n",
       " ('Denmark', 0.0),\n",
       " ('Dominican Republic', 44.9),\n",
       " ('Algeria', 0.0),\n",
       " ('Ecuador', 46.5),\n",
       " ('Eritrea', 0.0),\n",
       " ('Spain', 0.0),\n",
       " ('Estonia', 0.0),\n",
       " ('Ethiopia', 0.0),\n",
       " ('Finland', 0.0),\n",
       " ('Fiji', 0.0),\n",
       " ('France', 0.0),\n",
       " ('Gabon', 0.0),\n",
       " ('United Kingdom', 0.0),\n",
       " ('Georgia', 38.5),\n",
       " ('Ghana', 0.0),\n",
       " ('Guinea', 0.0),\n",
       " ('Equatorial Guinea', 0.0),\n",
       " ('Greece', 0.0),\n",
       " ('Guatemala', 0.0),\n",
       " ('Guyana', 0.0),\n",
       " ('Honduras', 50.1),\n",
       " ('Croatia', 0.0),\n",
       " ('Haiti', 0.0),\n",
       " ('Hungary', 0.0),\n",
       " ('Indonesia', 0.0),\n",
       " ('India', 0.0),\n",
       " ('Ireland', 0.0),\n",
       " ('Iraq', 0.0),\n",
       " ('Iceland', 0.0),\n",
       " ('Israel', 0.0),\n",
       " ('Italy', 0.0),\n",
       " ('Jamaica', 0.0),\n",
       " ('Jordan', 0.0),\n",
       " ('Japan', 0.0),\n",
       " ('Kazakhstan', 26.5),\n",
       " ('Kenya', 0.0),\n",
       " ('Cambodia', 0.0),\n",
       " ('Kuwait', 0.0),\n",
       " ('Lebanon', 0.0),\n",
       " ('Liberia', 0.0),\n",
       " ('Libya', 0.0),\n",
       " ('Sri Lanka', 0.0),\n",
       " ('Lesotho', 0.0),\n",
       " ('Lithuania', 0.0),\n",
       " ('Luxembourg', 0.0),\n",
       " ('Latvia', 0.0),\n",
       " ('Morocco', 0.0),\n",
       " ('Madagascar', 0.0),\n",
       " ('Mexico', 0.0),\n",
       " ('Mali', 0.0),\n",
       " ('Malta', 0.0),\n",
       " ('Myanmar', 38.1),\n",
       " ('Montenegro', 0.0),\n",
       " ('Mongolia', 0.0),\n",
       " ('Mozambique', 0.0),\n",
       " ('Mauritania', 0.0),\n",
       " ('Malawi', 0.0),\n",
       " ('Malaysia', 0.0),\n",
       " ('Namibia', 0.0),\n",
       " ('Niger', 0.0),\n",
       " ('Nigeria', 0.0),\n",
       " ('Nicaragua', 0.0),\n",
       " ('Netherlands', 0.0),\n",
       " ('Norway', 0.0),\n",
       " ('Nepal', 0.0),\n",
       " ('New Zealand', 0.0),\n",
       " ('Oman', 0.0),\n",
       " ('Pakistan', 0.0),\n",
       " ('Panama', 51.0),\n",
       " ('Peru', 44.3),\n",
       " ('Philippines', 40.1),\n",
       " ('Papua New Guinea', 0.0),\n",
       " ('Poland', 0.0),\n",
       " ('Portugal', 0.0),\n",
       " ('Paraguay', 48.0),\n",
       " ('Qatar', 0.0),\n",
       " ('Romania', 0.0),\n",
       " ('Rwanda', 0.0),\n",
       " ('Saudi Arabia', 0.0),\n",
       " ('Sudan', 0.0),\n",
       " ('South Sudan', 0.0),\n",
       " ('Senegal', 0.0),\n",
       " ('Solomon Islands', 0.0),\n",
       " ('Sierra Leone', 0.0),\n",
       " ('El Salvador', 40.8),\n",
       " ('Suriname', 0.0),\n",
       " ('Slovenia', 0.0),\n",
       " ('Sweden', 0.0),\n",
       " ('Swaziland', 0.0),\n",
       " ('Chad', 0.0),\n",
       " ('Togo', 43.0),\n",
       " ('Thailand', 0.0),\n",
       " ('Tajikistan', 34.0),\n",
       " ('Turkmenistan', 0.0),\n",
       " ('Trinidad and Tobago', 0.0),\n",
       " ('Tunisia', 0.0),\n",
       " ('Turkey', 0.0),\n",
       " ('Uganda', 0.0),\n",
       " ('Ukraine', 25.5),\n",
       " ('Uruguay', 41.7),\n",
       " ('Uzbekistan', 0.0),\n",
       " ('Vanuatu', 0.0),\n",
       " ('South Africa', 0.0),\n",
       " ('Zambia', 57.1),\n",
       " ('Zimbabwe', 0.0)]"
      ]
     },
     "execution_count": 25,
     "metadata": {},
     "output_type": "execute_result"
    }
   ],
   "source": [
    "# Prints Country Name and GiniCoefficient\n",
    "results"
   ]
  },
  {
   "cell_type": "code",
   "execution_count": null,
   "metadata": {
    "collapsed": true
   },
   "outputs": [],
   "source": []
  }
 ],
 "metadata": {
  "kernelspec": {
   "display_name": "Python 3",
   "language": "python",
   "name": "python3"
  },
  "language_info": {
   "codemirror_mode": {
    "name": "ipython",
    "version": 3
   },
   "file_extension": ".py",
   "mimetype": "text/x-python",
   "name": "python",
   "nbconvert_exporter": "python",
   "pygments_lexer": "ipython3",
   "version": "3.6.4"
  }
 },
 "nbformat": 4,
 "nbformat_minor": 2
}
